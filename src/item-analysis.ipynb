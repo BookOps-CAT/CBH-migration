{
 "cells": [
  {
   "cell_type": "code",
   "execution_count": 1,
   "metadata": {},
   "outputs": [],
   "source": [
    "import pandas as pd\n",
    "items_fh = \"./files/items.csv\""
   ]
  },
  {
   "cell_type": "markdown",
   "metadata": {},
   "source": [
    "## Base dataframe"
   ]
  },
  {
   "cell_type": "code",
   "execution_count": 2,
   "metadata": {},
   "outputs": [],
   "source": [
    "df = pd.read_csv(items_fh)"
   ]
  },
  {
   "cell_type": "code",
   "execution_count": 3,
   "metadata": {},
   "outputs": [
    {
     "data": {
      "text/html": [
       "<div>\n",
       "<style scoped>\n",
       "    .dataframe tbody tr th:only-of-type {\n",
       "        vertical-align: middle;\n",
       "    }\n",
       "\n",
       "    .dataframe tbody tr th {\n",
       "        vertical-align: top;\n",
       "    }\n",
       "\n",
       "    .dataframe thead th {\n",
       "        text-align: right;\n",
       "    }\n",
       "</style>\n",
       "<table border=\"1\" class=\"dataframe\">\n",
       "  <thead>\n",
       "    <tr style=\"text-align: right;\">\n",
       "      <th></th>\n",
       "      <th>0</th>\n",
       "      <th>1</th>\n",
       "      <th>2</th>\n",
       "      <th>4</th>\n",
       "      <th>5</th>\n",
       "      <th>7</th>\n",
       "      <th>A</th>\n",
       "      <th>B</th>\n",
       "      <th>F</th>\n",
       "      <th>H</th>\n",
       "      <th>...</th>\n",
       "      <th>b</th>\n",
       "      <th>f</th>\n",
       "      <th>h</th>\n",
       "      <th>i</th>\n",
       "      <th>j</th>\n",
       "      <th>k</th>\n",
       "      <th>m1</th>\n",
       "      <th>m2</th>\n",
       "      <th>p</th>\n",
       "      <th>w</th>\n",
       "    </tr>\n",
       "  </thead>\n",
       "  <tbody>\n",
       "    <tr>\n",
       "      <th>0</th>\n",
       "      <td>N</td>\n",
       "      <td>KBHS</td>\n",
       "      <td>SPCL</td>\n",
       "      <td>NaN</td>\n",
       "      <td>2138-30</td>\n",
       "      <td>NaN</td>\n",
       "      <td>Brooklyn Historical Society</td>\n",
       "      <td>Special Collections</td>\n",
       "      <td>Library Use Only</td>\n",
       "      <td>4277561</td>\n",
       "      <td>...</td>\n",
       "      <td>NaN</td>\n",
       "      <td>4</td>\n",
       "      <td>NaN</td>\n",
       "      <td>NaN</td>\n",
       "      <td>PAMP PierceEL-1</td>\n",
       "      <td>NaN</td>\n",
       "      <td>BOOK</td>\n",
       "      <td>Non-circulating</td>\n",
       "      <td>NaN</td>\n",
       "      <td>NaN</td>\n",
       "    </tr>\n",
       "    <tr>\n",
       "      <th>1</th>\n",
       "      <td>N</td>\n",
       "      <td>KBHS</td>\n",
       "      <td>MAIN</td>\n",
       "      <td>NaN</td>\n",
       "      <td>4374-20</td>\n",
       "      <td>NaN</td>\n",
       "      <td>Brooklyn Historical Society</td>\n",
       "      <td>Main Collection</td>\n",
       "      <td>Library Use Only</td>\n",
       "      <td>5225687</td>\n",
       "      <td>...</td>\n",
       "      <td>NaN</td>\n",
       "      <td>4</td>\n",
       "      <td>F128.18</td>\n",
       "      <td>.W87 1983</td>\n",
       "      <td>NaN</td>\n",
       "      <td>NaN</td>\n",
       "      <td>BOOK</td>\n",
       "      <td>Non-circulating</td>\n",
       "      <td>NaN</td>\n",
       "      <td>NaN</td>\n",
       "    </tr>\n",
       "    <tr>\n",
       "      <th>2</th>\n",
       "      <td>N</td>\n",
       "      <td>KBHS</td>\n",
       "      <td>REF</td>\n",
       "      <td>NaN</td>\n",
       "      <td>6039-20</td>\n",
       "      <td>NaN</td>\n",
       "      <td>Brooklyn Historical Society</td>\n",
       "      <td>Reference</td>\n",
       "      <td>Library Use Only</td>\n",
       "      <td>3872783</td>\n",
       "      <td>...</td>\n",
       "      <td>NaN</td>\n",
       "      <td>4</td>\n",
       "      <td>F129.B7</td>\n",
       "      <td>K4 2007</td>\n",
       "      <td>NaN</td>\n",
       "      <td>NaN</td>\n",
       "      <td>BOOK</td>\n",
       "      <td>Non-circulating</td>\n",
       "      <td>NaN</td>\n",
       "      <td>NaN</td>\n",
       "    </tr>\n",
       "    <tr>\n",
       "      <th>3</th>\n",
       "      <td>N</td>\n",
       "      <td>KBHS</td>\n",
       "      <td>CSTAC</td>\n",
       "      <td>NaN</td>\n",
       "      <td>11578-20</td>\n",
       "      <td>NaN</td>\n",
       "      <td>Brooklyn Historical Society</td>\n",
       "      <td>Closed Stacks</td>\n",
       "      <td>Library Use Only</td>\n",
       "      <td>7807830</td>\n",
       "      <td>...</td>\n",
       "      <td>NaN</td>\n",
       "      <td>4</td>\n",
       "      <td>RA629.E93</td>\n",
       "      <td>R85 1852</td>\n",
       "      <td>NaN</td>\n",
       "      <td>NaN</td>\n",
       "      <td>BOOK</td>\n",
       "      <td>Non-circulating</td>\n",
       "      <td>NaN</td>\n",
       "      <td>NaN</td>\n",
       "    </tr>\n",
       "    <tr>\n",
       "      <th>4</th>\n",
       "      <td>N</td>\n",
       "      <td>KBHS</td>\n",
       "      <td>CSTAC</td>\n",
       "      <td>NaN</td>\n",
       "      <td>12069-20</td>\n",
       "      <td>NaN</td>\n",
       "      <td>Brooklyn Historical Society</td>\n",
       "      <td>Closed Stacks</td>\n",
       "      <td>Library Use Only</td>\n",
       "      <td>7957060</td>\n",
       "      <td>...</td>\n",
       "      <td>NaN</td>\n",
       "      <td>4</td>\n",
       "      <td>RA627.C9</td>\n",
       "      <td>A3 1848</td>\n",
       "      <td>NaN</td>\n",
       "      <td>NaN</td>\n",
       "      <td>BOOK</td>\n",
       "      <td>Non-circulating</td>\n",
       "      <td>NaN</td>\n",
       "      <td>NaN</td>\n",
       "    </tr>\n",
       "  </tbody>\n",
       "</table>\n",
       "<p>5 rows × 27 columns</p>\n",
       "</div>"
      ],
      "text/plain": [
       "   0     1      2    4         5    7                            A  \\\n",
       "0  N  KBHS   SPCL  NaN   2138-30  NaN  Brooklyn Historical Society   \n",
       "1  N  KBHS   MAIN  NaN   4374-20  NaN  Brooklyn Historical Society   \n",
       "2  N  KBHS    REF  NaN   6039-20  NaN  Brooklyn Historical Society   \n",
       "3  N  KBHS  CSTAC  NaN  11578-20  NaN  Brooklyn Historical Society   \n",
       "4  N  KBHS  CSTAC  NaN  12069-20  NaN  Brooklyn Historical Society   \n",
       "\n",
       "                     B                 F        H  ...    b  f          h  \\\n",
       "0  Special Collections  Library Use Only  4277561  ...  NaN  4        NaN   \n",
       "1      Main Collection  Library Use Only  5225687  ...  NaN  4    F128.18   \n",
       "2            Reference  Library Use Only  3872783  ...  NaN  4    F129.B7   \n",
       "3        Closed Stacks  Library Use Only  7807830  ...  NaN  4  RA629.E93   \n",
       "4        Closed Stacks  Library Use Only  7957060  ...  NaN  4   RA627.C9   \n",
       "\n",
       "           i                j    k    m1               m2    p    w  \n",
       "0        NaN  PAMP PierceEL-1  NaN  BOOK  Non-circulating  NaN  NaN  \n",
       "1  .W87 1983              NaN  NaN  BOOK  Non-circulating  NaN  NaN  \n",
       "2    K4 2007              NaN  NaN  BOOK  Non-circulating  NaN  NaN  \n",
       "3   R85 1852              NaN  NaN  BOOK  Non-circulating  NaN  NaN  \n",
       "4    A3 1848              NaN  NaN  BOOK  Non-circulating  NaN  NaN  \n",
       "\n",
       "[5 rows x 27 columns]"
      ]
     },
     "execution_count": 3,
     "metadata": {},
     "output_type": "execute_result"
    }
   ],
   "source": [
    "df.head()"
   ]
  },
  {
   "cell_type": "markdown",
   "metadata": {},
   "source": [
    "### $0 values"
   ]
  },
  {
   "cell_type": "code",
   "execution_count": 4,
   "metadata": {},
   "outputs": [
    {
     "data": {
      "text/plain": [
       "N    38728\n",
       "Y     1242\n",
       "Name: 0, dtype: int64"
      ]
     },
     "execution_count": 4,
     "metadata": {},
     "output_type": "execute_result"
    }
   ],
   "source": [
    "df[\"0\"].value_counts()"
   ]
  },
  {
   "cell_type": "markdown",
   "metadata": {},
   "source": [
    "### $1 values"
   ]
  },
  {
   "cell_type": "code",
   "execution_count": 5,
   "metadata": {},
   "outputs": [
    {
     "data": {
      "text/plain": [
       "KBHS    39970\n",
       "Name: 1, dtype: int64"
      ]
     },
     "execution_count": 5,
     "metadata": {},
     "output_type": "execute_result"
    }
   ],
   "source": [
    "df[\"1\"].value_counts()"
   ]
  },
  {
   "cell_type": "markdown",
   "metadata": {},
   "source": [
    "### $2 values"
   ]
  },
  {
   "cell_type": "code",
   "execution_count": 7,
   "metadata": {},
   "outputs": [
    {
     "data": {
      "text/plain": [
       "MAIN     30349\n",
       "CSTAC     2420\n",
       "SPCL      2016\n",
       "FLMAP     1612\n",
       "ARMS      1558\n",
       "REF        585\n",
       "MFORM      528\n",
       "REFD       267\n",
       "ATLAS      220\n",
       "STAFR      138\n",
       "RARE       114\n",
       "FDMAP      112\n",
       "FOLIO       48\n",
       "CBDSK        3\n",
       "Name: 2, dtype: int64"
      ]
     },
     "execution_count": 7,
     "metadata": {},
     "output_type": "execute_result"
    }
   ],
   "source": [
    "df[\"2\"].value_counts()"
   ]
  },
  {
   "cell_type": "markdown",
   "metadata": {},
   "source": [
    "### $4 values"
   ]
  },
  {
   "cell_type": "code",
   "execution_count": 8,
   "metadata": {},
   "outputs": [
    {
     "data": {
      "text/plain": [
       "reclass from gen periodicals;        172\n",
       "reclass from Vital Records;          165\n",
       "reclass from NYS;                    164\n",
       "do not print;                        131\n",
       "reclass from Desk Ref;                97\n",
       "                                    ... \n",
       "Reclass from Geneal. Si585b;           1\n",
       "reclass from geneal. B1715bam;         1\n",
       "Reclass from E663 .E53;                1\n",
       "Reclass from PZ3.W685 Mon;             1\n",
       "Reclass from Folio Arts A9 C5825;      1\n",
       "Name: 4, Length: 11550, dtype: int64"
      ]
     },
     "execution_count": 8,
     "metadata": {},
     "output_type": "execute_result"
    }
   ],
   "source": [
    "df[\"4\"].value_counts()"
   ]
  },
  {
   "cell_type": "code",
   "execution_count": 12,
   "metadata": {},
   "outputs": [],
   "source": [
    "df[\"4\"].value_counts().to_csv(\"./files/sub_$4.csv\", header=True)"
   ]
  },
  {
   "cell_type": "markdown",
   "metadata": {},
   "source": [
    "### $5 values"
   ]
  },
  {
   "cell_type": "code",
   "execution_count": 13,
   "metadata": {},
   "outputs": [
    {
     "data": {
      "text/plain": [
       "N11835972    65\n",
       "N11856120    59\n",
       "N11793203    58\n",
       "N11860326    28\n",
       "N11793261    28\n",
       "             ..\n",
       "N11801790     1\n",
       "N11840511     1\n",
       "N11803379     1\n",
       "N11782555     1\n",
       "N11826251     1\n",
       "Name: 5, Length: 38728, dtype: int64"
      ]
     },
     "execution_count": 13,
     "metadata": {},
     "output_type": "execute_result"
    }
   ],
   "source": [
    "df[\"5\"].value_counts()"
   ]
  },
  {
   "cell_type": "code",
   "execution_count": 14,
   "metadata": {},
   "outputs": [],
   "source": [
    "df[\"5\"].value_counts().to_csv(\"./files/sub_$5.csv\", header=True)"
   ]
  },
  {
   "cell_type": "markdown",
   "metadata": {},
   "source": [
    "### $7 values"
   ]
  },
  {
   "cell_type": "code",
   "execution_count": 15,
   "metadata": {},
   "outputs": [],
   "source": [
    "df[\"7\"].value_counts().to_csv(\"./files/sub_$7.csv\", header=True)"
   ]
  },
  {
   "cell_type": "markdown",
   "metadata": {},
   "source": [
    "### $A values"
   ]
  },
  {
   "cell_type": "code",
   "execution_count": 16,
   "metadata": {},
   "outputs": [
    {
     "data": {
      "text/plain": [
       "Brooklyn Historical Society    39970\n",
       "Name: A, dtype: int64"
      ]
     },
     "execution_count": 16,
     "metadata": {},
     "output_type": "execute_result"
    }
   ],
   "source": [
    "df[\"A\"].value_counts()"
   ]
  },
  {
   "cell_type": "markdown",
   "metadata": {},
   "source": [
    "### $a values"
   ]
  },
  {
   "cell_type": "code",
   "execution_count": 17,
   "metadata": {},
   "outputs": [
    {
     "data": {
      "text/plain": [
       "1          1082\n",
       "2           958\n",
       "3           421\n",
       "4           216\n",
       "99          211\n",
       "           ... \n",
       "4-7           1\n",
       "109-115       1\n",
       "text          1\n",
       "1902          1\n",
       "1/6           1\n",
       "Name: a, Length: 409, dtype: int64"
      ]
     },
     "execution_count": 17,
     "metadata": {},
     "output_type": "execute_result"
    }
   ],
   "source": [
    "df[\"a\"].value_counts()"
   ]
  },
  {
   "cell_type": "code",
   "execution_count": 18,
   "metadata": {},
   "outputs": [],
   "source": [
    "df[\"a\"].value_counts().to_csv(\"./files/sub_$a.csv\", header=True)"
   ]
  },
  {
   "cell_type": "markdown",
   "metadata": {},
   "source": [
    "### $B values"
   ]
  },
  {
   "cell_type": "code",
   "execution_count": 19,
   "metadata": {},
   "outputs": [
    {
     "data": {
      "text/plain": [
       "Main Collection                  30349\n",
       "Closed Stacks                     2420\n",
       "Special Collections               2016\n",
       "Flat Maps                         1612\n",
       "Archives - Manuscripts            1558\n",
       "Reference                          585\n",
       "Microform                          528\n",
       "Reference - Desk                   267\n",
       "Atlas                              220\n",
       "Staff Reference                    138\n",
       "Rare Books                         114\n",
       "Folded Maps                        112\n",
       "Folio                               48\n",
       "Conservation / Bindery - Desk        3\n",
       "Name: B, dtype: int64"
      ]
     },
     "execution_count": 19,
     "metadata": {},
     "output_type": "execute_result"
    }
   ],
   "source": [
    "df[\"B\"].value_counts()"
   ]
  },
  {
   "cell_type": "code",
   "execution_count": 20,
   "metadata": {},
   "outputs": [],
   "source": [
    "df[\"B\"].value_counts().to_csv(\"./files/sub_$B.csv\", header=True)"
   ]
  },
  {
   "cell_type": "markdown",
   "metadata": {},
   "source": [
    "### $b values"
   ]
  },
  {
   "cell_type": "code",
   "execution_count": 21,
   "metadata": {},
   "outputs": [
    {
     "data": {
      "text/plain": [
       "1            14\n",
       "2             6\n",
       "$B            3\n",
       "1906-1907     2\n",
       "22            1\n",
       "1/4           1\n",
       "1-4           1\n",
       "3             1\n",
       "1317          1\n",
       "1905-1906     1\n",
       "5             1\n",
       "5-8           1\n",
       "v.2           1\n",
       "v.1           1\n",
       "6             1\n",
       "Name: b, dtype: int64"
      ]
     },
     "execution_count": 21,
     "metadata": {},
     "output_type": "execute_result"
    }
   ],
   "source": [
    "df[\"b\"].value_counts()"
   ]
  },
  {
   "cell_type": "code",
   "execution_count": 24,
   "metadata": {},
   "outputs": [],
   "source": [
    "df[\"b\"].value_counts().to_csv(\"./files/sub_$b_.csv\", header=True)"
   ]
  },
  {
   "cell_type": "markdown",
   "metadata": {},
   "source": [
    "### $F values"
   ]
  },
  {
   "cell_type": "code",
   "execution_count": 25,
   "metadata": {},
   "outputs": [
    {
     "data": {
      "text/plain": [
       "Library Use Only    38611\n",
       "Reference             695\n",
       "Microform             528\n",
       "NO ITEM STATUS        136\n",
       "Name: F, dtype: int64"
      ]
     },
     "execution_count": 25,
     "metadata": {},
     "output_type": "execute_result"
    }
   ],
   "source": [
    "df[\"F\"].value_counts()"
   ]
  },
  {
   "cell_type": "code",
   "execution_count": 26,
   "metadata": {},
   "outputs": [],
   "source": [
    "df[\"F\"].value_counts().to_csv(\"./files/sub_$F.csv\", header=True)"
   ]
  },
  {
   "cell_type": "markdown",
   "metadata": {},
   "source": [
    "### $f values"
   ]
  },
  {
   "cell_type": "code",
   "execution_count": 28,
   "metadata": {},
   "outputs": [
    {
     "data": {
      "text/plain": [
       "4     38611\n",
       "8       695\n",
       "5       528\n",
       "77      136\n",
       "Name: f, dtype: int64"
      ]
     },
     "execution_count": 28,
     "metadata": {},
     "output_type": "execute_result"
    }
   ],
   "source": [
    "df[\"f\"].value_counts()"
   ]
  },
  {
   "cell_type": "code",
   "execution_count": 30,
   "metadata": {},
   "outputs": [],
   "source": [
    "df[\"f\"].value_counts().to_csv(\"./files/sub_$f_.csv\", header=True)"
   ]
  },
  {
   "cell_type": "markdown",
   "metadata": {},
   "source": [
    "### $H value"
   ]
  },
  {
   "cell_type": "code",
   "execution_count": 32,
   "metadata": {},
   "outputs": [
    {
     "data": {
      "text/plain": [
       "1649182    226\n",
       "2873729     65\n",
       "1023603     59\n",
       "1023601     58\n",
       "2809971     54\n",
       "          ... \n",
       "2746792      1\n",
       "3404203      1\n",
       "4309421      1\n",
       "4641199      1\n",
       "1436209      1\n",
       "Name: H, Length: 36232, dtype: int64"
      ]
     },
     "execution_count": 32,
     "metadata": {},
     "output_type": "execute_result"
    }
   ],
   "source": [
    "df[\"H\"].value_counts()"
   ]
  },
  {
   "cell_type": "markdown",
   "metadata": {},
   "source": [
    "### $h values"
   ]
  },
  {
   "cell_type": "code",
   "execution_count": 33,
   "metadata": {},
   "outputs": [
    {
     "data": {
      "text/plain": [
       "CS71          11025\n",
       "F127.L8         884\n",
       "F129.B7         765\n",
       "CS44            235\n",
       "CS69            192\n",
       "              ...  \n",
       "CT275.A76         1\n",
       "BX8445.B76        1\n",
       "JK2319.K56        1\n",
       "KF354.N44         1\n",
       "DC216.5           1\n",
       "Name: h, Length: 9672, dtype: int64"
      ]
     },
     "execution_count": 33,
     "metadata": {},
     "output_type": "execute_result"
    }
   ],
   "source": [
    "df[\"h\"].value_counts()"
   ]
  },
  {
   "cell_type": "code",
   "execution_count": 35,
   "metadata": {},
   "outputs": [],
   "source": [
    "df[\"h\"].value_counts().to_csv(\"./files/sub_$h.csv\", header=True)"
   ]
  },
  {
   "cell_type": "markdown",
   "metadata": {},
   "source": [
    "### $I values"
   ]
  },
  {
   "cell_type": "code",
   "execution_count": 36,
   "metadata": {},
   "outputs": [
    {
     "data": {
      "text/plain": [
       "1940          18\n",
       "1894          15\n",
       "1              8\n",
       "1926           7\n",
       "1884           5\n",
       "              ..\n",
       "1859           1\n",
       "1995           1\n",
       "v.10(1829)     1\n",
       "v.2(1821)      1\n",
       "1868           1\n",
       "Name: I, Length: 89, dtype: int64"
      ]
     },
     "execution_count": 36,
     "metadata": {},
     "output_type": "execute_result"
    }
   ],
   "source": [
    "df[\"I\"].value_counts()"
   ]
  },
  {
   "cell_type": "code",
   "execution_count": 37,
   "metadata": {},
   "outputs": [],
   "source": [
    "df[\"I\"].value_counts().to_csv(\"./files/sub_$I.csv\", header=True)"
   ]
  },
  {
   "cell_type": "markdown",
   "metadata": {},
   "source": [
    "### $i values"
   ]
  },
  {
   "cell_type": "code",
   "execution_count": 38,
   "metadata": {},
   "outputs": [
    {
     "data": {
      "text/plain": [
       ".A43 1952        226\n",
       "L6 v. 1           68\n",
       "N49 1963          65\n",
       "N3 box 1          62\n",
       ".D438 1933        54\n",
       "                ... \n",
       "C65 1964           1\n",
       "O5 1854 c.2        1\n",
       "M85 1897           1\n",
       ".L34 1843          1\n",
       ".B556776 1900      1\n",
       "Name: i, Length: 29006, dtype: int64"
      ]
     },
     "execution_count": 38,
     "metadata": {},
     "output_type": "execute_result"
    }
   ],
   "source": [
    "df[\"i\"].value_counts()"
   ]
  },
  {
   "cell_type": "code",
   "execution_count": 39,
   "metadata": {},
   "outputs": [],
   "source": [
    "df[\"i\"].value_counts().to_csv(\"./files/sub_$i_.csv\", header=True)"
   ]
  },
  {
   "cell_type": "markdown",
   "metadata": {},
   "source": [
    "### $J values"
   ]
  },
  {
   "cell_type": "code",
   "execution_count": 40,
   "metadata": {},
   "outputs": [
    {
     "data": {
      "text/plain": [
       "Apr.        2\n",
       "Jan.        2\n",
       "May 29      1\n",
       "Oct. 20     1\n",
       "Sept. 11    1\n",
       "Oct         1\n",
       "fall        1\n",
       "May         1\n",
       "July 30     1\n",
       "Name: J, dtype: int64"
      ]
     },
     "execution_count": 40,
     "metadata": {},
     "output_type": "execute_result"
    }
   ],
   "source": [
    "df[\"J\"].value_counts()"
   ]
  },
  {
   "cell_type": "code",
   "execution_count": 41,
   "metadata": {},
   "outputs": [],
   "source": [
    "df[\"J\"].value_counts().to_csv(\"./files/sub_$J.csv\", header=True)"
   ]
  },
  {
   "cell_type": "markdown",
   "metadata": {},
   "source": [
    "### $j values"
   ]
  },
  {
   "cell_type": "code",
   "execution_count": 43,
   "metadata": {},
   "outputs": [
    {
     "data": {
      "text/plain": [
       "B P-1915-1933.A        23\n",
       "(66) NYC-1969.A         5\n",
       "(82) Q-1901-1904.A      3\n",
       "IPOF E449.B624 1985     3\n",
       "Q-1928.A                3\n",
       "                       ..\n",
       "V1990.074               1\n",
       "M-1776 (189-?).Fl       1\n",
       "PAMP Whiting-1          1\n",
       "B A-1898a.Fl            1\n",
       "ARC.045                 1\n",
       "Name: j, Length: 4573, dtype: int64"
      ]
     },
     "execution_count": 43,
     "metadata": {},
     "output_type": "execute_result"
    }
   ],
   "source": [
    "df[\"j\"].value_counts()"
   ]
  },
  {
   "cell_type": "code",
   "execution_count": 44,
   "metadata": {},
   "outputs": [],
   "source": [
    "df[\"j\"].value_counts().to_csv(\"./files/sub_j_.csv\", header=True)"
   ]
  },
  {
   "cell_type": "markdown",
   "metadata": {},
   "source": [
    "### $k values"
   ]
  },
  {
   "cell_type": "code",
   "execution_count": 45,
   "metadata": {},
   "outputs": [
    {
     "data": {
      "text/plain": [
       "Folio    366\n",
       "Name: k, dtype: int64"
      ]
     },
     "execution_count": 45,
     "metadata": {},
     "output_type": "execute_result"
    }
   ],
   "source": [
    "df[\"k\"].value_counts()"
   ]
  },
  {
   "cell_type": "code",
   "execution_count": 46,
   "metadata": {},
   "outputs": [],
   "source": [
    "df[\"k\"].value_counts().to_csv(\"./files/sub_$k.csv\", header=True)"
   ]
  },
  {
   "cell_type": "markdown",
   "metadata": {},
   "source": [
    "### $m1 values"
   ]
  },
  {
   "cell_type": "code",
   "execution_count": 47,
   "metadata": {},
   "outputs": [
    {
     "data": {
      "text/plain": [
       "BOOK     35901\n",
       "MAP       2146\n",
       "MIXED     1417\n",
       "ISSUE      254\n",
       "ISSMX      143\n",
       "ISSBD       57\n",
       "SCORE       42\n",
       "GRAPH        4\n",
       "ERES         4\n",
       "SOUND        1\n",
       "VIDEO        1\n",
       "Name: m1, dtype: int64"
      ]
     },
     "execution_count": 47,
     "metadata": {},
     "output_type": "execute_result"
    }
   ],
   "source": [
    "df[\"m1\"].value_counts()"
   ]
  },
  {
   "cell_type": "code",
   "execution_count": 48,
   "metadata": {},
   "outputs": [],
   "source": [
    "df[\"m1\"].value_counts().to_csv(\"./files/sub_$m1.csv\", header=True)"
   ]
  },
  {
   "cell_type": "markdown",
   "metadata": {},
   "source": [
    "### $m2 values"
   ]
  },
  {
   "cell_type": "code",
   "execution_count": 49,
   "metadata": {},
   "outputs": [
    {
     "data": {
      "text/plain": [
       "Non-circulating      38262\n",
       "Non-Circulating          4\n",
       "Electronic access        4\n",
       "NOn-circulating          3\n",
       "Non-circulation          2\n",
       "Non-criculating          2\n",
       "Non-circualting          2\n",
       "Non-circulatng           1\n",
       "non-circulating          1\n",
       "N0n-circulating          1\n",
       "Non-corculating          1\n",
       "Nono-circulating         1\n",
       "Non-circulatinig         1\n",
       "No-circulating           1\n",
       "Non-circulatimg          1\n",
       "Name: m2, dtype: int64"
      ]
     },
     "execution_count": 49,
     "metadata": {},
     "output_type": "execute_result"
    }
   ],
   "source": [
    "df[\"m2\"].value_counts()"
   ]
  },
  {
   "cell_type": "code",
   "execution_count": 50,
   "metadata": {},
   "outputs": [],
   "source": [
    "df[\"m2\"].value_counts().to_csv(\"./files/sub_$m2.csv\", header=True)"
   ]
  },
  {
   "cell_type": "markdown",
   "metadata": {},
   "source": [
    "### $P values"
   ]
  },
  {
   "cell_type": "code",
   "execution_count": 51,
   "metadata": {},
   "outputs": [
    {
     "data": {
      "text/plain": [
       "Received          129\n",
       "Labeling           16\n",
       "Missing             3\n",
       "Being Repaired      1\n",
       "Name: P, dtype: int64"
      ]
     },
     "execution_count": 51,
     "metadata": {},
     "output_type": "execute_result"
    }
   ],
   "source": [
    "df[\"P\"].value_counts()"
   ]
  },
  {
   "cell_type": "code",
   "execution_count": 52,
   "metadata": {},
   "outputs": [],
   "source": [
    "df[\"P\"].value_counts().to_csv(\"./files/sub_$P.csv\", header=True)"
   ]
  },
  {
   "cell_type": "markdown",
   "metadata": {},
   "source": [
    "### $p values"
   ]
  },
  {
   "cell_type": "code",
   "execution_count": 53,
   "metadata": {},
   "outputs": [
    {
     "data": {
      "text/plain": [
       "AR    129\n",
       "LB     16\n",
       "MI      3\n",
       "RP      1\n",
       "Name: p, dtype: int64"
      ]
     },
     "execution_count": 53,
     "metadata": {},
     "output_type": "execute_result"
    }
   ],
   "source": [
    "df[\"p\"].value_counts()"
   ]
  },
  {
   "cell_type": "code",
   "execution_count": 54,
   "metadata": {},
   "outputs": [],
   "source": [
    "df[\"p\"].value_counts().to_csv(\"./files/sub_$p_.csv\", header=True)"
   ]
  },
  {
   "cell_type": "markdown",
   "metadata": {},
   "source": [
    "### $Q values"
   ]
  },
  {
   "cell_type": "code",
   "execution_count": 55,
   "metadata": {},
   "outputs": [
    {
     "data": {
      "text/plain": [
       "20180524.0    44\n",
       "20080620.0    39\n",
       "20080613.0    35\n",
       "20070514.0    23\n",
       "20070523.0    21\n",
       "20201016.0    18\n",
       "20070607.0    12\n",
       "20180523.0    10\n",
       "20180706.0     9\n",
       "20180919.0     8\n",
       "20070518.0     8\n",
       "20180417.0     8\n",
       "20180629.0     7\n",
       "20180418.0     6\n",
       "20180320.0     6\n",
       "20070515.0     5\n",
       "20070517.0     5\n",
       "20070530.0     5\n",
       "20070524.0     5\n",
       "20180628.0     4\n",
       "20070525.0     4\n",
       "20070516.0     3\n",
       "20070606.0     3\n",
       "20180522.0     2\n",
       "20070608.0     2\n",
       "20070522.0     2\n",
       "20181114.0     2\n",
       "20060903.0     1\n",
       "20070416.0     1\n",
       "20171004.0     1\n",
       "20180718.0     1\n",
       "20171122.0     1\n",
       "20180831.0     1\n",
       "20180929.0     1\n",
       "20181009.0     1\n",
       "20190821.0     1\n",
       "20190904.0     1\n",
       "20170630.0     1\n",
       "Name: Q, dtype: int64"
      ]
     },
     "execution_count": 55,
     "metadata": {},
     "output_type": "execute_result"
    }
   ],
   "source": [
    "df[\"Q\"].value_counts()"
   ]
  },
  {
   "cell_type": "code",
   "execution_count": 56,
   "metadata": {},
   "outputs": [],
   "source": [
    "df[\"Q\"].value_counts().to_csv(\"./files/sub_$Q.csv\", header=True)"
   ]
  },
  {
   "cell_type": "markdown",
   "metadata": {},
   "source": [
    "### $R values"
   ]
  },
  {
   "cell_type": "code",
   "execution_count": 58,
   "metadata": {},
   "outputs": [
    {
     "data": {
      "text/plain": [
       "20180524.0    44\n",
       "20080620.0    18\n",
       "20201016.0    18\n",
       "20070514.0    16\n",
       "20070523.0    14\n",
       "20180523.0    10\n",
       "20180706.0     9\n",
       "20180417.0     8\n",
       "20180919.0     8\n",
       "20180629.0     7\n",
       "20180320.0     6\n",
       "20180418.0     6\n",
       "20180628.0     4\n",
       "20070607.0     4\n",
       "20070518.0     3\n",
       "20181114.0     2\n",
       "20180522.0     2\n",
       "20171004.0     1\n",
       "20170630.0     1\n",
       "20171122.0     1\n",
       "20180831.0     1\n",
       "20070530.0     1\n",
       "20180929.0     1\n",
       "20181009.0     1\n",
       "20180718.0     1\n",
       "20190821.0     1\n",
       "20190904.0     1\n",
       "Name: R, dtype: int64"
      ]
     },
     "execution_count": 58,
     "metadata": {},
     "output_type": "execute_result"
    }
   ],
   "source": [
    "df[\"R\"].value_counts()"
   ]
  },
  {
   "cell_type": "code",
   "execution_count": 59,
   "metadata": {},
   "outputs": [],
   "source": [
    "df[\"R\"].value_counts().to_csv(\"./files/sub_$R.csv\", header=True)"
   ]
  },
  {
   "cell_type": "markdown",
   "metadata": {},
   "source": [
    "### $S values"
   ]
  },
  {
   "cell_type": "code",
   "execution_count": 60,
   "metadata": {},
   "outputs": [
    {
     "data": {
      "text/plain": [
       "20080613.0    35\n",
       "20080620.0    21\n",
       "20070607.0     8\n",
       "20070523.0     7\n",
       "20070514.0     7\n",
       "20070524.0     5\n",
       "20070517.0     5\n",
       "20070515.0     5\n",
       "20070518.0     5\n",
       "20070525.0     4\n",
       "20070530.0     4\n",
       "20070606.0     3\n",
       "20070516.0     3\n",
       "20070608.0     2\n",
       "20070522.0     2\n",
       "20060903.0     1\n",
       "20070416.0     1\n",
       "Name: S, dtype: int64"
      ]
     },
     "execution_count": 60,
     "metadata": {},
     "output_type": "execute_result"
    }
   ],
   "source": [
    "df[\"S\"].value_counts()"
   ]
  },
  {
   "cell_type": "code",
   "execution_count": 61,
   "metadata": {},
   "outputs": [],
   "source": [
    "df[\"S\"].value_counts().to_csv(\"./files/sub_$S.csv\", header=True)"
   ]
  },
  {
   "cell_type": "markdown",
   "metadata": {},
   "source": [
    "### $w values"
   ]
  },
  {
   "cell_type": "code",
   "execution_count": 62,
   "metadata": {},
   "outputs": [
    {
     "data": {
      "text/plain": [
       "v.1           1015\n",
       "v.2            914\n",
       "v.3            396\n",
       "v.4            204\n",
       "v.5            123\n",
       "              ... \n",
       "v.56             1\n",
       "v. 16            1\n",
       "text             1\n",
       "v.1:pt.1-4       1\n",
       "v.118            1\n",
       "Name: w, Length: 651, dtype: int64"
      ]
     },
     "execution_count": 62,
     "metadata": {},
     "output_type": "execute_result"
    }
   ],
   "source": [
    "df[\"w\"].value_counts()"
   ]
  },
  {
   "cell_type": "code",
   "execution_count": 63,
   "metadata": {},
   "outputs": [],
   "source": [
    "df[\"w\"].value_counts().to_csv(\"./files/sub_$w.csv\", header=True)"
   ]
  },
  {
   "cell_type": "code",
   "execution_count": null,
   "metadata": {},
   "outputs": [],
   "source": []
  }
 ],
 "metadata": {
  "kernelspec": {
   "display_name": "Python 3",
   "language": "python",
   "name": "python3"
  },
  "language_info": {
   "codemirror_mode": {
    "name": "ipython",
    "version": 3
   },
   "file_extension": ".py",
   "mimetype": "text/x-python",
   "name": "python",
   "nbconvert_exporter": "python",
   "pygments_lexer": "ipython3",
   "version": "3.7.3"
  }
 },
 "nbformat": 4,
 "nbformat_minor": 4
}
